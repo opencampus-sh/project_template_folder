{
  "nbformat": 4,
  "nbformat_minor": 0,
  "metadata": {
    "colab": {
      "provenance": [],
      "toc_visible": true
    },
    "kernelspec": {
      "name": "python3",
      "display_name": "Python 3"
    },
    "language_info": {
      "name": "python"
    }
  },
  "cells": [
    {
      "cell_type": "markdown",
      "source": [
        "# Create a custom dataset of mathematical formulas\n",
        "\n",
        "The data used to create this dataset are the MNIST dataset (digits 0 to 9) and a subset of the plus and minus signs from the [Handwritten Math Symbols](https://www.kaggle.com/datasets/xainano/handwrittenmathsymbols) dataset."
      ],
      "metadata": {
        "id": "KoQKOSKHUlBr"
      }
    },
    {
      "cell_type": "code",
      "execution_count": 151,
      "metadata": {
        "id": "SnYsthG5kZ-u"
      },
      "outputs": [],
      "source": [
        "import numpy as np\n",
        "import struct\n",
        "from array import array\n",
        "from os.path import join\n",
        "from os import listdir\n",
        "import json\n",
        "import cv2\n",
        "from google.colab.patches import cv2_imshow\n",
        "import random"
      ]
    },
    {
      "cell_type": "markdown",
      "source": [
        "## Prepare the data"
      ],
      "metadata": {
        "id": "2PJlMUZ2UloC"
      }
    },
    {
      "cell_type": "code",
      "source": [
        "from google.colab import drive\n",
        "drive.mount('/content/drive')"
      ],
      "metadata": {
        "colab": {
          "base_uri": "https://localhost:8080/"
        },
        "id": "sfLSeOnmr522",
        "outputId": "0ff6cccf-5e0d-411f-8354-a93e820ea4fd"
      },
      "execution_count": 152,
      "outputs": [
        {
          "output_type": "stream",
          "name": "stdout",
          "text": [
            "Drive already mounted at /content/drive; to attempt to forcibly remount, call drive.mount(\"/content/drive\", force_remount=True).\n"
          ]
        }
      ]
    },
    {
      "cell_type": "markdown",
      "source": [
        "### Load the MNIST data\n",
        "\n",
        "The dataset was downloaded from [lecun.com](https://yann.lecun.com/exdb/mnist/). Unfortunatly the site seems to be password protected by now."
      ],
      "metadata": {
        "id": "W18N0vRPUf1T"
      }
    },
    {
      "cell_type": "code",
      "source": [
        "# Dataloader adjusted from this code: https://www.kaggle.com/code/hojjatk/read-mnist-dataset/notebook\n",
        "class MnistDataloader(object):\n",
        "    def __init__(self, images_filepath, labels_filepath):\n",
        "        self.images_filepath = images_filepath\n",
        "        self.labels_filepath = labels_filepath\n",
        "    \n",
        "    def read_images_labels(self, images_filepath, labels_filepath):        \n",
        "        labels = []\n",
        "        with open(labels_filepath, 'rb') as file:\n",
        "            magic, size = struct.unpack(\">II\", file.read(8))\n",
        "            if magic != 2049:\n",
        "                raise ValueError('Magic number mismatch, expected 2049, got {}'.format(magic))\n",
        "            labels = array(\"B\", file.read())        \n",
        "        \n",
        "        with open(images_filepath, 'rb') as file:\n",
        "            magic, size, rows, cols = struct.unpack(\">IIII\", file.read(16))\n",
        "            if magic != 2051:\n",
        "                raise ValueError('Magic number mismatch, expected 2051, got {}'.format(magic))\n",
        "            image_data = array(\"B\", file.read())        \n",
        "        \n",
        "        images = []\n",
        "        \n",
        "        num_examples = size\n",
        "        for i in range(num_examples):\n",
        "            images.append([0] * rows * cols)\n",
        "        for i in range(num_examples):\n",
        "            img = np.array(image_data[i * rows * cols:(i + 1) * rows * cols])\n",
        "            img = img.reshape(28, 28)\n",
        "            images[i][:] = img            \n",
        "        \n",
        "        return images, labels\n",
        "            \n",
        "    def load_data(self):\n",
        "        x, y = self.read_images_labels(self.images_filepath, self.labels_filepath)\n",
        "        return (x, y)"
      ],
      "metadata": {
        "id": "45rVwDY3lQQJ"
      },
      "execution_count": 153,
      "outputs": []
    },
    {
      "cell_type": "code",
      "source": [
        "# Create the file paths for the MNIST data\n",
        "input_path = '/content/drive/MyDrive/dlproject'\n",
        "training_images_filepath = join(input_path, 'train-images.idx3-ubyte')\n",
        "training_labels_filepath = join(input_path, 'train-labels.idx1-ubyte')\n",
        "test_images_filepath = join(input_path, 't10k-images.idx3-ubyte')\n",
        "test_labels_filepath = join(input_path, 't10k-labels.idx1-ubyte')"
      ],
      "metadata": {
        "id": "xH_u6TdhluZS"
      },
      "execution_count": 154,
      "outputs": []
    },
    {
      "cell_type": "code",
      "source": [
        "# Load the MNIST training data\n",
        "train_mnist_dataloader = MnistDataloader(training_images_filepath, training_labels_filepath)\n",
        "(x_train, y_train) = train_mnist_dataloader.load_data()\n",
        "\n",
        "# Load the MNIST evaluation/test data\n",
        "test_mnist_dataloader = MnistDataloader(test_images_filepath, test_labels_filepath)\n",
        "(x_test, y_test) = test_mnist_dataloader.load_data()"
      ],
      "metadata": {
        "id": "s2RInucAl03Y"
      },
      "execution_count": 155,
      "outputs": []
    },
    {
      "cell_type": "markdown",
      "source": [
        "### Prepare the MNIST data"
      ],
      "metadata": {
        "id": "n1i5Vhf9WpQO"
      }
    },
    {
      "cell_type": "code",
      "source": [
        "# Categorize the indices of the training dataset digit images\n",
        "train_digit_indices = {}\n",
        "\n",
        "for i in range(10):\n",
        "  train_digit_indices[str(i)] = []\n",
        "\n",
        "for i in range(60000):\n",
        "  train_digit_indices[str(y_train[i])].append(i)"
      ],
      "metadata": {
        "id": "jyiEdcOwhv6n"
      },
      "execution_count": 158,
      "outputs": []
    },
    {
      "cell_type": "code",
      "source": [
        "# Categorize the indices of the evaluation/test dataset digit images\n",
        "test_digit_indices = {}\n",
        "\n",
        "for i in range(10):\n",
        "  test_digit_indices[str(i)] = []\n",
        "\n",
        "for i in range(10000):\n",
        "  test_digit_indices[str(y_test[i])].append(i)"
      ],
      "metadata": {
        "id": "Iv_tdZlNZ6aR"
      },
      "execution_count": 159,
      "outputs": []
    },
    {
      "cell_type": "markdown",
      "source": [
        "### Load the prepared plus and minus sign images"
      ],
      "metadata": {
        "id": "8YlOwjzqWw5W"
      }
    },
    {
      "cell_type": "code",
      "source": [
        "# Create the file paths for the plus and minus sign images prepared by the Single-Sign-Creation notebook\n",
        "input_path = '/content/drive/MyDrive/deeplearning'\n",
        "train_plus_sign_path = join(input_path, 'sign-images/train-plus-signs')\n",
        "train_minus_sign_path = join(input_path, 'sign-images/train-minus-signs')\n",
        "test_plus_sign_path = join(input_path, 'sign-images/test-plus-signs')\n",
        "test_minus_sign_path = join(input_path, 'sign-images/test-minus-signs')"
      ],
      "metadata": {
        "id": "w7j2uspFDVF6"
      },
      "execution_count": 161,
      "outputs": []
    },
    {
      "cell_type": "code",
      "source": [
        "# Save the file names of the images\n",
        "train_plus_indices = listdir(train_plus_sign_path)\n",
        "train_minus_indices = listdir(train_minus_sign_path)\n",
        "test_plus_indices = listdir(test_plus_sign_path)\n",
        "test_minus_indices = listdir(test_minus_sign_path)"
      ],
      "metadata": {
        "id": "81SDfUiMbhOA"
      },
      "execution_count": 162,
      "outputs": []
    },
    {
      "cell_type": "markdown",
      "source": [
        "## Functions used to create the dataset"
      ],
      "metadata": {
        "id": "_i84N1GQVBki"
      }
    },
    {
      "cell_type": "code",
      "source": [
        "# Returns the index of the first row containing a non-zero value (pixel)\n",
        "def get_upper_border(img):\n",
        "  for i in range(len(img)):\n",
        "    for j in range(len(img[i])):\n",
        "      if not img[i][j] == 0:\n",
        "          return i\n",
        "\n",
        "# Returns the index of the last row containing a non-zero value (pixel)\n",
        "def get_lower_border(img):\n",
        "  for i in range(len(img)-1, 0, -1):\n",
        "    for j in range(len(img[i])):\n",
        "      if not img[i][j] == 0:\n",
        "          return i\n",
        "\n",
        "# Returns the index of the first column containing a non-zero value (pixel)\n",
        "def get_left_border(img):\n",
        "  for j in range(len(img[0])):\n",
        "    for i in range(len(img)):\n",
        "      if not img[i][j] == 0:\n",
        "          return j\n",
        "\n",
        "# Returns the index of the last column containing a non-zero value (pixel)\n",
        "def get_right_border(img):\n",
        "  for j in range(len(img[0])-1, 0, -1):\n",
        "    for i in range(len(img)):\n",
        "      if not img[i][j] == 0:\n",
        "          return j"
      ],
      "metadata": {
        "id": "WtcAOGq_rBD4"
      },
      "execution_count": 156,
      "outputs": []
    },
    {
      "cell_type": "code",
      "source": [
        "# Removes the whitespace around the signs and digits\n",
        "def get_img(img_sample):\n",
        "  upper_border = get_upper_border(img_sample)\n",
        "  lower_border = get_lower_border(img_sample)\n",
        "  left_border = get_left_border(img_sample)\n",
        "  right_border = get_right_border(img_sample)\n",
        "\n",
        "  img_reduced_rows = img_sample[upper_border:lower_border+1]\n",
        "  img = []\n",
        "  for row in img_reduced_rows:\n",
        "    img.append(row[left_border:right_border+1])\n",
        "  \n",
        "  return img"
      ],
      "metadata": {
        "id": "mrOjcTqFxgeO"
      },
      "execution_count": 157,
      "outputs": []
    },
    {
      "cell_type": "markdown",
      "source": [
        "### Create formula strings"
      ],
      "metadata": {
        "id": "tD3W8So_W2ax"
      }
    },
    {
      "cell_type": "code",
      "source": [
        "# Function to create formula string of arbitrary length that start and end with a digit and have at least one operator sign\n",
        "def generate_formula_str(str_len):\n",
        "  # Start with digit\n",
        "  formula_str = str(random.randint(1,9))\n",
        "\n",
        "  # Add signs and digits (digit probability descends until a sign was added)\n",
        "  max_num_len = 5\n",
        "  x = max_num_len\n",
        "\n",
        "  for i in range(1, str_len-1):\n",
        "    if formula_str[i-1] in ['+', '-']:\n",
        "      formula_str += str(random.randint(1, 9))\n",
        "    else: \n",
        "      if random.randint(1,x) == 1:\n",
        "        if random.randint(1,2) == 1:\n",
        "          formula_str += '+'\n",
        "        else:\n",
        "          formula_str += '-'\n",
        "        x = max_num_len\n",
        "      else:\n",
        "        formula_str += str(random.randint(0, 9))\n",
        "        x -= 1\n",
        "\n",
        "  # End with digit\n",
        "  formula_str += str(random.randint(0, 9))\n",
        "  return formula_str"
      ],
      "metadata": {
        "id": "MqoxF45RZPWp"
      },
      "execution_count": 163,
      "outputs": []
    },
    {
      "cell_type": "markdown",
      "source": [
        "### Create formula images"
      ],
      "metadata": {
        "id": "FihqXO-CW7GZ"
      }
    },
    {
      "cell_type": "code",
      "source": [
        "# Define the valid chars in the formula strings\n",
        "valid_chars = [str(x) for x in range(10)] + ['+', '-']"
      ],
      "metadata": {
        "id": "JAni_4djDei_"
      },
      "execution_count": 164,
      "outputs": []
    },
    {
      "cell_type": "code",
      "source": [
        "# Turn the formula string into an image with random digit and sign images chosen from the given datasets\n",
        "def create_formula_img(formula_str, images=[], valid_chars=[], width=384, height=48, digit_indices=[], plus_indices=[], minus_indices=[], plus_sign_path=[], minus_sign_path=[]):\n",
        "  # The formula starts with a random offset from the top left corner\n",
        "  num_x = random.randint(8, 12)\n",
        "  num_y = random.randint(8, 12)\n",
        "  num_width = 0\n",
        "  num_height = 0\n",
        "  \n",
        "  # Init the formula image\n",
        "  formula_img = np.zeros((height, width, 1), dtype=np.uint8)\n",
        "\n",
        "  # Init the metadata for this image\n",
        "  metadata = dict(img_name='', formula_str=formula_str, digits=[])\n",
        "\n",
        "  for char in formula_str:\n",
        "    # Random offset of each digit and sign, so the images aren't in one straight line\n",
        "    x_offset = random.randint(2, 4)\n",
        "    y_offset = random.randint(0, 3)\n",
        "\n",
        "    # Load the sign/digit image\n",
        "    if char in valid_chars:\n",
        "      if char == '+':\n",
        "        rand_index = random.randint(0, len(plus_indices)-1)\n",
        "        image = cv2.imread(join(plus_sign_path, plus_indices[rand_index]))\n",
        "        image = cv2.cvtColor(image, cv2.COLOR_BGR2GRAY)\n",
        "        image = get_img(image)\n",
        "        image = np.asarray(image, dtype=np.uint8)\n",
        "        y_offset += random.randint(-2,0) # Correction offset since + signs tend to be lower than the average digit\n",
        "      elif char == '-':\n",
        "        rand_index = random.randint(0, len(minus_indices)-1)\n",
        "        image = cv2.imread(join(minus_sign_path, minus_indices[rand_index]))\n",
        "        image = cv2.cvtColor(image, cv2.COLOR_BGR2GRAY)\n",
        "        image = get_img(image)\n",
        "        image = np.asarray(image, dtype=np.uint8)\n",
        "        y_offset += random.randint(2,4) # Correction offset since - signs tend to be higher than the average digit\n",
        "      else:\n",
        "        rand_index = random.randint(0, len(digit_indices[char])-1)\n",
        "        image = images[digit_indices[char][rand_index]]\n",
        "        image = get_img(image)\n",
        "        image = np.asarray(image, dtype=np.uint8)\n",
        "\n",
        "      # Get image width and height without whitespace\n",
        "      num_width = image.shape[1]\n",
        "      num_height = image.shape[0]\n",
        "\n",
        "      # Calculate the positions of the 4 corners of the number (useful for Object Recognition tasks not used by us)\n",
        "      x_min = num_x + x_offset\n",
        "      x_max = num_x + x_offset + num_width\n",
        "      y_min = num_y + y_offset\n",
        "      y_max = num_y + y_offset + num_height\n",
        "\n",
        "      # Append the information to the metadata\n",
        "      metadata['digits'].append(dict(x_min = x_min, x_max = x_max, y_min = y_min, y_max = y_max))\n",
        "\n",
        "      # Add the digit/sign image to the formula image\n",
        "      add_img = np.maximum(formula_img[y_min: y_max, x_min: x_max, 0], image)\n",
        "      formula_img[y_min: y_max, x_min: x_max, 0] = add_img\n",
        "\n",
        "      # Change x position for the next digit/sign\n",
        "      num_x = num_x + num_width + x_offset\n",
        "\n",
        "  return formula_img, metadata"
      ],
      "metadata": {
        "id": "BQIS1oCHCKlq"
      },
      "execution_count": 166,
      "outputs": []
    },
    {
      "cell_type": "markdown",
      "source": [
        "## Create the dataset"
      ],
      "metadata": {
        "id": "RoPZSlwDVJeK"
      }
    },
    {
      "cell_type": "code",
      "source": [
        "# Dictionary containing the metadata of the created images\n",
        "formulas = dict(train_formulas=[], test_formulas=[])"
      ],
      "metadata": {
        "id": "VS4Oob5lpZse"
      },
      "execution_count": 167,
      "outputs": []
    },
    {
      "cell_type": "markdown",
      "source": [
        "### Create the training dataset"
      ],
      "metadata": {
        "id": "k3ueq3JtW_Ej"
      }
    },
    {
      "cell_type": "code",
      "source": [
        "formula_set = set()\n",
        "\n",
        "n = 0\n",
        "while not len(formula_set) == 1600:\n",
        "  # Generate a formula string of random length\n",
        "  formula_str = generate_formula_str(random.randint(6, 12))\n",
        "  # Don't create duplicate formula string\n",
        "  if not formula_str in formula_set:\n",
        "    # Only use formula strings with at least one + or -\n",
        "    if '+' in formula_str or '-' in formula_str:\n",
        "      # Create image and metadata and save the information\n",
        "      image, metadata = create_formula_img(formula_str, images=x_train, valid_chars=valid_chars, digit_indices=train_digit_indices, plus_indices=train_plus_indices, minus_indices=train_minus_indices, plus_sign_path=train_plus_sign_path, minus_sign_path=train_minus_sign_path)\n",
        "      img_name = 'train_formula_' + str(n) + '.jpg'\n",
        "      metadata['img_name'] = img_name\n",
        "      formulas['train_formulas'].append(metadata)\n",
        "      formula_set.add(formula_str)\n",
        "      cv2.imwrite(join('drive/MyDrive/deeplearning/formula-dataset/train', img_name), cv2.bitwise_not(image))\n",
        "      # Show an example image every 100 images\n",
        "      if n % 100 == 0:\n",
        "        print(n)\n",
        "        print(formula_str)\n",
        "        cv2_imshow(cv2.bitwise_not(image))\n",
        "      n += 1"
      ],
      "metadata": {
        "colab": {
          "base_uri": "https://localhost:8080/",
          "height": 1000
        },
        "id": "o_1BhsX3Xo8j",
        "outputId": "71c6a05c-90c1-4ecd-8bd5-84ce2cf6dc24"
      },
      "execution_count": 168,
      "outputs": [
        {
          "output_type": "stream",
          "name": "stdout",
          "text": [
            "0\n",
            "6945-8+207\n"
          ]
        },
        {
          "output_type": "display_data",
          "data": {
            "text/plain": [
              "<PIL.Image.Image image mode=L size=384x48 at 0x7F50BDA9EA30>"
            ],
            "image/png": "[encoded data removed]"
          },
          "metadata": {}
        },
        {
          "output_type": "stream",
          "name": "stdout",
          "text": [
            "100\n",
            "72-64641-59\n"
          ]
        },
        {
          "output_type": "display_data",
          "data": {
            "text/plain": [
              "<PIL.Image.Image image mode=L size=384x48 at 0x7F50BDA9E880>"
            ],
            "image/png": "[encoded data removed]"
          },
          "metadata": {}
        },
        {
          "output_type": "stream",
          "name": "stdout",
          "text": [
            "200\n",
            "8602-7\n"
          ]
        },
        {
          "output_type": "display_data",
          "data": {
            "text/plain": [
              "<PIL.Image.Image image mode=L size=384x48 at 0x7F50BDA9E040>"
            ],
            "image/png": "[encoded data removed]"
          },
          "metadata": {}
        },
        {
          "output_type": "stream",
          "name": "stdout",
          "text": [
            "300\n",
            "8754-3141\n"
          ]
        },
        {
          "output_type": "display_data",
          "data": {
            "text/plain": [
              "<PIL.Image.Image image mode=L size=384x48 at 0x7F50BDA9EAF0>"
            ],
            "image/png": "[encoded data removed]"
          },
          "metadata": {}
        },
        {
          "output_type": "stream",
          "name": "stdout",
          "text": [
            "400\n",
            "9-28-12691-0\n"
          ]
        },
        {
          "output_type": "display_data",
          "data": {
            "text/plain": [
              "<PIL.Image.Image image mode=L size=384x48 at 0x7F50BDA9E340>"
            ],
            "image/png": "[encoded data removed]"
          },
          "metadata": {}
        },
        {
          "output_type": "stream",
          "name": "stdout",
          "text": [
            "500\n",
            "2660-1-65760\n"
          ]
        },
        {
          "output_type": "display_data",
          "data": {
            "text/plain": [
              "<PIL.Image.Image image mode=L size=384x48 at 0x7F50BDA9E040>"
            ],
            "image/png": "[encoded data removed]"
          },
          "metadata": {}
        },
        {
          "output_type": "stream",
          "name": "stdout",
          "text": [
            "600\n",
            "4935+693757\n"
          ]
        },
        {
          "output_type": "display_data",
          "data": {
            "text/plain": [
              "<PIL.Image.Image image mode=L size=384x48 at 0x7F50BDA9EB50>"
            ],
            "image/png": "[encoded data removed]"
          },
          "metadata": {}
        },
        {
          "output_type": "stream",
          "name": "stdout",
          "text": [
            "700\n",
            "2891+356\n"
          ]
        },
        {
          "output_type": "display_data",
          "data": {
            "text/plain": [
              "<PIL.Image.Image image mode=L size=384x48 at 0x7F50BDA9E670>"
            ],
            "image/png": "[encoded data removed]"
          },
          "metadata": {}
        },
        {
          "output_type": "stream",
          "name": "stdout",
          "text": [
            "800\n",
            "68025+2-641\n"
          ]
        },
        {
          "output_type": "display_data",
          "data": {
            "text/plain": [
              "<PIL.Image.Image image mode=L size=384x48 at 0x7F50BDA9E0A0>"
            ],
            "image/png": "[encoded data removed]"
          },
          "metadata": {}
        },
        {
          "output_type": "stream",
          "name": "stdout",
          "text": [
            "900\n",
            "86-566\n"
          ]
        },
        {
          "output_type": "display_data",
          "data": {
            "text/plain": [
              "<PIL.Image.Image image mode=L size=384x48 at 0x7F50BF562C10>"
            ],
            "image/png": "[encoded data removed]"
          },
          "metadata": {}
        },
        {
          "output_type": "stream",
          "name": "stdout",
          "text": [
            "1000\n",
            "4+84-98423\n"
          ]
        },
        {
          "output_type": "display_data",
          "data": {
            "text/plain": [
              "<PIL.Image.Image image mode=L size=384x48 at 0x7F50BF562A90>"
            ],
            "image/png": "[encoded data removed]"
          },
          "metadata": {}
        },
        {
          "output_type": "stream",
          "name": "stdout",
          "text": [
            "1100\n",
            "764-87-8394\n"
          ]
        },
        {
          "output_type": "display_data",
          "data": {
            "text/plain": [
              "<PIL.Image.Image image mode=L size=384x48 at 0x7F50BF562C10>"
            ],
            "image/png": "[encoded data removed]"
          },
          "metadata": {}
        },
        {
          "output_type": "stream",
          "name": "stdout",
          "text": [
            "1200\n",
            "530-4-241490\n"
          ]
        },
        {
          "output_type": "display_data",
          "data": {
            "text/plain": [
              "<PIL.Image.Image image mode=L size=384x48 at 0x7F50BF562970>"
            ],
            "image/png": "[encoded data removed]"
          },
          "metadata": {}
        },
        {
          "output_type": "stream",
          "name": "stdout",
          "text": [
            "1300\n",
            "5397-6-95\n"
          ]
        },
        {
          "output_type": "display_data",
          "data": {
            "text/plain": [
              "<PIL.Image.Image image mode=L size=384x48 at 0x7F50BF562C10>"
            ],
            "image/png": "[encoded data removed]"
          },
          "metadata": {}
        },
        {
          "output_type": "stream",
          "name": "stdout",
          "text": [
            "1400\n",
            "30190+23\n"
          ]
        },
        {
          "output_type": "display_data",
          "data": {
            "text/plain": [
              "<PIL.Image.Image image mode=L size=384x48 at 0x7F50BF562D30>"
            ],
            "image/png": "[encoded data removed]"
          },
          "metadata": {}
        },
        {
          "output_type": "stream",
          "name": "stdout",
          "text": [
            "1500\n",
            "989+3-86\n"
          ]
        },
        {
          "output_type": "display_data",
          "data": {
            "text/plain": [
              "<PIL.Image.Image image mode=L size=384x48 at 0x7F50BF5629D0>"
            ],
            "image/png": "[encoded data removed]"
          },
          "metadata": {}
        }
      ]
    },
    {
      "cell_type": "markdown",
      "source": [
        "### Create the evaluation/test dataset"
      ],
      "metadata": {
        "id": "-LMy2mtpXCdR"
      }
    },
    {
      "cell_type": "code",
      "source": [
        "formula_set = set()\n",
        "\n",
        "n = 0\n",
        "while not len(formula_set) == 400:\n",
        "  # Generate a formula string of random length\n",
        "  formula_str = generate_formula_str(random.randint(6, 12))\n",
        "  # Don't create duplicate formula string\n",
        "  if not formula_str in formula_set:\n",
        "    # Only use formula strings with at least one + or -\n",
        "    if '+' in formula_str or '-' in formula_str:\n",
        "      # Create image and metadata and save the information\n",
        "      image, metadata = create_formula_img(formula_str, images=x_test, valid_chars=valid_chars, digit_indices=test_digit_indices, plus_indices=test_plus_indices, minus_indices=test_minus_indices, plus_sign_path=test_plus_sign_path, minus_sign_path=test_minus_sign_path)\n",
        "      img_name = 'test_formula_' + str(n) + '.jpg'\n",
        "      metadata['img_name'] = img_name\n",
        "      formulas['test_formulas'].append(metadata)\n",
        "      formula_set.add(formula_str)\n",
        "      cv2.imwrite(join('drive/MyDrive/deeplearning/formula-dataset/test', img_name), cv2.bitwise_not(image))\n",
        "      # Show an example image every 100 images\n",
        "      if n % 100 == 0:\n",
        "        print(n)\n",
        "        print(formula_str)\n",
        "        cv2_imshow(cv2.bitwise_not(image))\n",
        "      n += 1"
      ],
      "metadata": {
        "colab": {
          "base_uri": "https://localhost:8080/",
          "height": 348
        },
        "id": "3eq8_2NzbKjk",
        "outputId": "fbe7d86f-d17c-4bac-806d-1d7a3616b1b0"
      },
      "execution_count": 169,
      "outputs": [
        {
          "output_type": "stream",
          "name": "stdout",
          "text": [
            "0\n",
            "7331+95+9\n"
          ]
        },
        {
          "output_type": "display_data",
          "data": {
            "text/plain": [
              "<PIL.Image.Image image mode=L size=384x48 at 0x7F50CA765070>"
            ],
            "image/png": "[encoded data removed]"
          },
          "metadata": {}
        },
        {
          "output_type": "stream",
          "name": "stdout",
          "text": [
            "100\n",
            "8-70+2-2\n"
          ]
        },
        {
          "output_type": "display_data",
          "data": {
            "text/plain": [
              "<PIL.Image.Image image mode=L size=384x48 at 0x7F50CA765070>"
            ],
            "image/png": "[encoded data removed]"
          },
          "metadata": {}
        },
        {
          "output_type": "stream",
          "name": "stdout",
          "text": [
            "200\n",
            "41379+3383\n"
          ]
        },
        {
          "output_type": "display_data",
          "data": {
            "text/plain": [
              "<PIL.Image.Image image mode=L size=384x48 at 0x7F50CA765310>"
            ],
            "image/png": "[encoded data removed]"
          },
          "metadata": {}
        },
        {
          "output_type": "stream",
          "name": "stdout",
          "text": [
            "300\n",
            "49-5+84552\n"
          ]
        },
        {
          "output_type": "display_data",
          "data": {
            "text/plain": [
              "<PIL.Image.Image image mode=L size=384x48 at 0x7F50CA7658E0>"
            ],
            "image/png": "[encoded data removed]"
          },
          "metadata": {}
        }
      ]
    },
    {
      "cell_type": "markdown",
      "source": [
        "### Save the metadata"
      ],
      "metadata": {
        "id": "0a8hFYtvXG3m"
      }
    },
    {
      "cell_type": "code",
      "source": [
        "# Save the metadata as JSON file\n",
        "with open(join('drive/MyDrive/deeplearning/formula-dataset', 'formula_metadata.json'), 'w') as f:\n",
        "  json.dump(formulas, f)"
      ],
      "metadata": {
        "id": "q3Rnuu7deqL_"
      },
      "execution_count": 170,
      "outputs": []
    }
  ]
}